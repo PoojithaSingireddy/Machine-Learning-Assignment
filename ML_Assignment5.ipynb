{
  "nbformat": 4,
  "nbformat_minor": 0,
  "metadata": {
    "colab": {
      "name": "ML Assignment5.ipynb",
      "provenance": [],
      "collapsed_sections": []
    },
    "kernelspec": {
      "name": "python3",
      "display_name": "Python 3"
    },
    "language_info": {
      "name": "python"
    }
  },
  "cells": [
    {
      "cell_type": "markdown",
      "source": [
        "Question1.\n",
        "\n",
        " What are the key tasks that machine learning entails? What does data pre-processing imply?\n",
        "\n",
        "->Key tasks under machine learning are:\n",
        "\n",
        "1.Defining an objective\n",
        "\n",
        "2.Collection of data\n",
        "\n",
        "3.Data preprocessing\n",
        "\n",
        "4.Choose the model\n",
        "\n",
        "5.Train model\n",
        "\n",
        "6.Evaluate using performance\n",
        "\n",
        "7.Tune the hyperparameters for best performance\n",
        "\n",
        "8.Produce results\n",
        "\n",
        "->Data Pre-processing includes steps to make data ready to be used for machine learning modeling. It includes, but is not limited to data cleaning, standardizing of keywords or headers, taking care of missing values and outliers."
      ],
      "metadata": {
        "id": "2ZFOi01VpozR"
      }
    },
    {
      "cell_type": "markdown",
      "source": [
        "Question 2.\n",
        "\n",
        "Describe quantitative and qualitative data in depth. Make a distinction between the two.\n",
        "\n",
        "->Quantitative data is one that is numerical in nature and has order and mathematical meaning to it. It can be of two types\n",
        "\n",
        "*Discrete quantitative data This type of data has values that come from a countably finite or uncountably finite set. For example: number of planets in Milky Way galaxy. It is generally visualized using bar plots.\n",
        "\n",
        "*Continous quantitative data This type of data has values that come from uncountably infinite sets. For example: heights of Indians. It is generally visualized using histograms.\n",
        "\n",
        "->Qualitative data is one that can be numerical or string in nature, does not necessarily have order to it but cannot possess mathematical meaning. For example: Blood groups, Grades etc.\n",
        "\n",
        "*Nominal qualitative data This type of data is mostly used to label data points based on other characteristics. Nominal data cannot be ordered in any way. For example: Classification of flowers into sub species based on characteristics like sepal length etc.\n",
        "\n",
        "*Ordinal qualitative data This type of data is one that can be ordered. For example: Grades.\n",
        "\n",
        "->Quantitative data is different from qualitative data as it does not have any numerical nature and do not have mathematical meaning."
      ],
      "metadata": {
        "id": "SwEWEUStqAEV"
      }
    },
    {
      "cell_type": "markdown",
      "source": [
        "Question3.\n",
        "\n",
        " Create a basic data collection that includes some sample records. Have at least one attribute from each of the machine learning data types.\n",
        "\n",
        " "
      ],
      "metadata": {
        "id": "B2DHtStUqc_7"
      }
    },
    {
      "cell_type": "code",
      "execution_count": 3,
      "metadata": {
        "id": "YRky-4RgpZYb"
      },
      "outputs": [],
      "source": [
        "input = {\"names\":{\"A, B, C\"},\"marks\":{92,88,75},\"date\":{\"Mar,2021\",\"April,2021\"},\"grade\":{\"A+\",\"A\",\"B+\"}}"
      ]
    },
    {
      "cell_type": "code",
      "source": [
        "input"
      ],
      "metadata": {
        "colab": {
          "base_uri": "https://localhost:8080/"
        },
        "id": "6P4mkmdUsmrB",
        "outputId": "32b9e580-5781-4a22-f026-4a5b8f30cc74"
      },
      "execution_count": 4,
      "outputs": [
        {
          "output_type": "execute_result",
          "data": {
            "text/plain": [
              "{'date': {'April,2021', 'Mar,2021'},\n",
              " 'grade': {'A', 'A+', 'B+'},\n",
              " 'marks': {75, 88, 92},\n",
              " 'names': {'A, B, C'}}"
            ]
          },
          "metadata": {},
          "execution_count": 4
        }
      ]
    },
    {
      "cell_type": "markdown",
      "source": [
        "Question 4.\n",
        "\n",
        "What are the various causes of machine learning data issues? What are the ramifications?\n",
        "\n",
        "Machine learning data issues can arise from the following:\n",
        "\n",
        "1.Removing outliers from data having non-gaussian distribution.\n",
        "\n",
        "2.Imputing data using numerical averages in case of non gaussian distribution.\n",
        "\n",
        "3.Low number of data points\n",
        "\n",
        "4.Data coming from a sample not representative of the population.\n",
        "\n",
        "5.Improper data entry\n",
        "\n",
        "6.Highly Collinear independent features\n",
        "\n",
        "Ramifications can be overfitting, underfitting and low performance.\n",
        "\n"
      ],
      "metadata": {
        "id": "RIX7-O-wtEVf"
      }
    },
    {
      "cell_type": "markdown",
      "source": [
        "Question 5.\n",
        "\n",
        " Demonstrate various approaches to categorical data exploration with appropriate examples."
      ],
      "metadata": {
        "id": "Fa9YZiGgtVX2"
      }
    },
    {
      "cell_type": "code",
      "source": [
        "import pandas as pd\n",
        "\n",
        "url = \"https://archive.ics.uci.edu/ml/machine-learning-databases/iris/iris.data\"\n",
        "names = ['sepal.length', 'sepal.width', 'petal.length', 'petal.width', 'variety']\n",
        "df = pd.read_csv(url, names=names)"
      ],
      "metadata": {
        "id": "iPMMmseEsz1_"
      },
      "execution_count": 5,
      "outputs": []
    },
    {
      "cell_type": "code",
      "source": [
        "df.head()"
      ],
      "metadata": {
        "colab": {
          "base_uri": "https://localhost:8080/",
          "height": 206
        },
        "id": "ChAve7FzuA6p",
        "outputId": "d8e8691e-711d-4fe3-a4fb-9156b7f92eee"
      },
      "execution_count": 6,
      "outputs": [
        {
          "output_type": "execute_result",
          "data": {
            "text/html": [
              "\n",
              "  <div id=\"df-64b554d6-41fa-4f2e-950c-fc55bb31da7e\">\n",
              "    <div class=\"colab-df-container\">\n",
              "      <div>\n",
              "<style scoped>\n",
              "    .dataframe tbody tr th:only-of-type {\n",
              "        vertical-align: middle;\n",
              "    }\n",
              "\n",
              "    .dataframe tbody tr th {\n",
              "        vertical-align: top;\n",
              "    }\n",
              "\n",
              "    .dataframe thead th {\n",
              "        text-align: right;\n",
              "    }\n",
              "</style>\n",
              "<table border=\"1\" class=\"dataframe\">\n",
              "  <thead>\n",
              "    <tr style=\"text-align: right;\">\n",
              "      <th></th>\n",
              "      <th>sepal.length</th>\n",
              "      <th>sepal.width</th>\n",
              "      <th>petal.length</th>\n",
              "      <th>petal.width</th>\n",
              "      <th>variety</th>\n",
              "    </tr>\n",
              "  </thead>\n",
              "  <tbody>\n",
              "    <tr>\n",
              "      <th>0</th>\n",
              "      <td>5.1</td>\n",
              "      <td>3.5</td>\n",
              "      <td>1.4</td>\n",
              "      <td>0.2</td>\n",
              "      <td>Iris-setosa</td>\n",
              "    </tr>\n",
              "    <tr>\n",
              "      <th>1</th>\n",
              "      <td>4.9</td>\n",
              "      <td>3.0</td>\n",
              "      <td>1.4</td>\n",
              "      <td>0.2</td>\n",
              "      <td>Iris-setosa</td>\n",
              "    </tr>\n",
              "    <tr>\n",
              "      <th>2</th>\n",
              "      <td>4.7</td>\n",
              "      <td>3.2</td>\n",
              "      <td>1.3</td>\n",
              "      <td>0.2</td>\n",
              "      <td>Iris-setosa</td>\n",
              "    </tr>\n",
              "    <tr>\n",
              "      <th>3</th>\n",
              "      <td>4.6</td>\n",
              "      <td>3.1</td>\n",
              "      <td>1.5</td>\n",
              "      <td>0.2</td>\n",
              "      <td>Iris-setosa</td>\n",
              "    </tr>\n",
              "    <tr>\n",
              "      <th>4</th>\n",
              "      <td>5.0</td>\n",
              "      <td>3.6</td>\n",
              "      <td>1.4</td>\n",
              "      <td>0.2</td>\n",
              "      <td>Iris-setosa</td>\n",
              "    </tr>\n",
              "  </tbody>\n",
              "</table>\n",
              "</div>\n",
              "      <button class=\"colab-df-convert\" onclick=\"convertToInteractive('df-64b554d6-41fa-4f2e-950c-fc55bb31da7e')\"\n",
              "              title=\"Convert this dataframe to an interactive table.\"\n",
              "              style=\"display:none;\">\n",
              "        \n",
              "  <svg xmlns=\"http://www.w3.org/2000/svg\" height=\"24px\"viewBox=\"0 0 24 24\"\n",
              "       width=\"24px\">\n",
              "    <path d=\"M0 0h24v24H0V0z\" fill=\"none\"/>\n",
              "    <path d=\"M18.56 5.44l.94 2.06.94-2.06 2.06-.94-2.06-.94-.94-2.06-.94 2.06-2.06.94zm-11 1L8.5 8.5l.94-2.06 2.06-.94-2.06-.94L8.5 2.5l-.94 2.06-2.06.94zm10 10l.94 2.06.94-2.06 2.06-.94-2.06-.94-.94-2.06-.94 2.06-2.06.94z\"/><path d=\"M17.41 7.96l-1.37-1.37c-.4-.4-.92-.59-1.43-.59-.52 0-1.04.2-1.43.59L10.3 9.45l-7.72 7.72c-.78.78-.78 2.05 0 2.83L4 21.41c.39.39.9.59 1.41.59.51 0 1.02-.2 1.41-.59l7.78-7.78 2.81-2.81c.8-.78.8-2.07 0-2.86zM5.41 20L4 18.59l7.72-7.72 1.47 1.35L5.41 20z\"/>\n",
              "  </svg>\n",
              "      </button>\n",
              "      \n",
              "  <style>\n",
              "    .colab-df-container {\n",
              "      display:flex;\n",
              "      flex-wrap:wrap;\n",
              "      gap: 12px;\n",
              "    }\n",
              "\n",
              "    .colab-df-convert {\n",
              "      background-color: #E8F0FE;\n",
              "      border: none;\n",
              "      border-radius: 50%;\n",
              "      cursor: pointer;\n",
              "      display: none;\n",
              "      fill: #1967D2;\n",
              "      height: 32px;\n",
              "      padding: 0 0 0 0;\n",
              "      width: 32px;\n",
              "    }\n",
              "\n",
              "    .colab-df-convert:hover {\n",
              "      background-color: #E2EBFA;\n",
              "      box-shadow: 0px 1px 2px rgba(60, 64, 67, 0.3), 0px 1px 3px 1px rgba(60, 64, 67, 0.15);\n",
              "      fill: #174EA6;\n",
              "    }\n",
              "\n",
              "    [theme=dark] .colab-df-convert {\n",
              "      background-color: #3B4455;\n",
              "      fill: #D2E3FC;\n",
              "    }\n",
              "\n",
              "    [theme=dark] .colab-df-convert:hover {\n",
              "      background-color: #434B5C;\n",
              "      box-shadow: 0px 1px 3px 1px rgba(0, 0, 0, 0.15);\n",
              "      filter: drop-shadow(0px 1px 2px rgba(0, 0, 0, 0.3));\n",
              "      fill: #FFFFFF;\n",
              "    }\n",
              "  </style>\n",
              "\n",
              "      <script>\n",
              "        const buttonEl =\n",
              "          document.querySelector('#df-64b554d6-41fa-4f2e-950c-fc55bb31da7e button.colab-df-convert');\n",
              "        buttonEl.style.display =\n",
              "          google.colab.kernel.accessAllowed ? 'block' : 'none';\n",
              "\n",
              "        async function convertToInteractive(key) {\n",
              "          const element = document.querySelector('#df-64b554d6-41fa-4f2e-950c-fc55bb31da7e');\n",
              "          const dataTable =\n",
              "            await google.colab.kernel.invokeFunction('convertToInteractive',\n",
              "                                                     [key], {});\n",
              "          if (!dataTable) return;\n",
              "\n",
              "          const docLinkHtml = 'Like what you see? Visit the ' +\n",
              "            '<a target=\"_blank\" href=https://colab.research.google.com/notebooks/data_table.ipynb>data table notebook</a>'\n",
              "            + ' to learn more about interactive tables.';\n",
              "          element.innerHTML = '';\n",
              "          dataTable['output_type'] = 'display_data';\n",
              "          await google.colab.output.renderOutput(dataTable, element);\n",
              "          const docLink = document.createElement('div');\n",
              "          docLink.innerHTML = docLinkHtml;\n",
              "          element.appendChild(docLink);\n",
              "        }\n",
              "      </script>\n",
              "    </div>\n",
              "  </div>\n",
              "  "
            ],
            "text/plain": [
              "   sepal.length  sepal.width  petal.length  petal.width      variety\n",
              "0           5.1          3.5           1.4          0.2  Iris-setosa\n",
              "1           4.9          3.0           1.4          0.2  Iris-setosa\n",
              "2           4.7          3.2           1.3          0.2  Iris-setosa\n",
              "3           4.6          3.1           1.5          0.2  Iris-setosa\n",
              "4           5.0          3.6           1.4          0.2  Iris-setosa"
            ]
          },
          "metadata": {},
          "execution_count": 6
        }
      ]
    },
    {
      "cell_type": "code",
      "source": [
        "import seaborn as sns\n",
        "import matplotlib.pyplot as plt\n",
        "c=df.groupby('variety')['variety'].count() \n",
        "sns.barplot(x=c.index, y=c.values)\n",
        "plt.title(\"Frequency Plot\")"
      ],
      "metadata": {
        "colab": {
          "base_uri": "https://localhost:8080/",
          "height": 312
        },
        "id": "g4QHC2PkuYLa",
        "outputId": "99ace241-85de-48bb-9fba-6c0aa3be2118"
      },
      "execution_count": 7,
      "outputs": [
        {
          "output_type": "execute_result",
          "data": {
            "text/plain": [
              "Text(0.5, 1.0, 'Frequency Plot')"
            ]
          },
          "metadata": {},
          "execution_count": 7
        },
        {
          "output_type": "display_data",
          "data": {
            "image/png": "[encoded data removed]",
            "text/plain": [
              "<Figure size 432x288 with 1 Axes>"
            ]
          },
          "metadata": {
            "needs_background": "light"
          }
        }
      ]
    },
    {
      "cell_type": "markdown",
      "source": [
        "Question 6.\n",
        "\n",
        "How would the learning activity be affected if certain variables have missing values? Having said that, what can be done about it?\n",
        "\n",
        "Several sklearn algorithms assume that all features are numerical and have mathematical meaning to them. If they come across missing values, the algorithm breaks and the program breaks. Generally, missing data builds up poor performance of the machine learning model. Certain algorithms like Random Forest however can handle missing data, at the expense of performance.\n",
        "Missing values can be imputed if the data has gaussian distribution. If not, median can be used for imputation. Certain values can also be filled using pandas interpolate() that calculates what missing value should be, based on the previous values but this can only work for features like ID code. Another way is to use machine learning models to learn from the data and then fill the missing value with most probable value."
      ],
      "metadata": {
        "id": "c37oSRcUutdH"
      }
    },
    {
      "cell_type": "markdown",
      "source": [
        "Question 7.\n",
        "\n",
        "Describe the various methods for dealing with missing data values in depth.\n",
        "\n",
        "*Imputation If the data distribution is normal, then numerical averages can be used to fill missing data as most of the data would lie around the mean. If data is not normally distributed, median can be used for imputation of values as median is not affected by presence of outliers. pd.df.fillna() is used for imputations\n",
        "\n",
        "->Removal of datapoint If there is a lot of data and the missing values are very low in numbers, then it may be better to simply remove that specific data point row. This will have little effect over performance of the machine learning model to be built. pd.df.drop() is used for this.\n",
        "\n",
        "->Interpolate() Interpolate() of pandas library is used in cases where numerical data is following some trend. This trend calculated and values are filled based on it. This function will not work on any other scenarios.\n",
        "\n",
        "->Build a machine learning model for filling data Machine learning models can learn from the data and then fill the missing value with most probable value. KNN models can be built for this purpose.\n",
        "\n",
        "->Dropping column Removing an entire column which is filled with missing data might be our best bet for building a good machine learning model."
      ],
      "metadata": {
        "id": "--KOj-4Tv0_O"
      }
    },
    {
      "cell_type": "markdown",
      "source": [
        "Question 8.\n",
        "\n",
        "What are the various data pre-processing techniques? Explain dimensionality reduction and function selection in a few words.\n",
        "\n",
        "Data Pre-Processing techniques:\n",
        "\n",
        "1.Data Cleaning\n",
        "\n",
        "2.Data Transformation\n",
        "3.Data Reduction\n",
        "\n",
        "->Dimensionality Reduction and feature selection are both methods of reducing the number of features a machine learning model would be trained on, so that effective space time complexity of algorithms can be minimized. Dimensionality Reduction is a method which relies on converting the features into a lower dimension while feature selection relies on including only those features that will contribute most to the performance of a machine learning model. Examples of Dimensionality Reduction are PCA and t-SNE. Examples of feature selection are forward feature selection and backward feature selection."
      ],
      "metadata": {
        "id": "Z9kLr3e61iXv"
      }
    },
    {
      "cell_type": "markdown",
      "source": [
        "Question 9.\n",
        "\n",
        "i. What is the IQR? What criteria are used to assess it?¶\n",
        "IQR or Inter-Quartile Range is a measure of dispersion. It is formulated as (third quartile-1st quartile). It is dependent on only 50% of the data.\n",
        "\n",
        "First quartile and third quartile are required to assess Inter Quartile Range.\n",
        "\n",
        "ii. Describe the various components of a box plot in detail? When will the lower whisker surpass the upper whisker in length? How can box plots be used to identify outliers?\n",
        "A boxplot gives us the 5 point summary which includes first quartile(median of the first 50% of the data), third quartile(median for second 50% of the data), median or 2nd quartile(exact mid point of the entire data), maximum value and minimum value. It also has two whiskers which provide us with a visual position of minimum and maximum value, below and above which lies the threshold beyond which any data point will be shown as an outlier. Outliers are declared by using formula Q1-(1.5 IQR) and Q3+(1.5 IQR)\n",
        "\n",
        "Lower whisker surpasses the upper whisker if the data is right skewed."
      ],
      "metadata": {
        "id": "vcnBC3z31wNG"
      }
    },
    {
      "cell_type": "markdown",
      "source": [
        "Question 10.\n",
        "\n",
        "Make brief notes on any two of the following:\n",
        "\n",
        "i. Data collected at regular intervals:\n",
        "Data collection can be in many different forms. One of the probabilistic sampling techniques used in Statistics is Stratified sampling in which data is collected at regular intervals but with a random start. It is used for its simplicity.\n",
        "\n",
        "ii. Use a cross-tab:\n",
        "Cross tabs or cross tabulation are only used to find relations between two categorical variables where one categorical variable value would be giving row data and the other variable would give column data. Several tests like the chi square test can help find relations based on the cross tab.\n",
        "\n",
        "Question 11.\n",
        "\n",
        " Make a comparison between:\n",
        "\n",
        "i. Histogram and box plot--\n",
        "\n",
        "->Histograms are data visualizations used for continous quantitative data. Box Plots are data visualizations used for describing any quantitative data.\n",
        "\n",
        "->Histograms are used for checking the distribution type. Box Plots are used for describing data in 5 point summary and detecting outliers in data.\n",
        "\n",
        "->Granularity can be changed using bins in Histograms. Box Plots do no feature any control over granularity.\n",
        "\n",
        "ii. The average and median--\n",
        "\n",
        "->Average is a measure of numerical centrality of a distribution. Median is a measure of positional centrality of a distribution\n",
        "\n",
        "->Average can also be referred to as the value that is closest to most number of values in a data. Median can also be referred to as the value which is exactly in the middle of a distribution.\n",
        "\n",
        "->Averages are affected by presence of outliers. Medians are not affected by outliers."
      ],
      "metadata": {
        "id": "gJK7Fr5Q3uZO"
      }
    },
    {
      "cell_type": "code",
      "source": [
        ""
      ],
      "metadata": {
        "id": "xgqbzhtSulil"
      },
      "execution_count": null,
      "outputs": []
    }
  ]
}